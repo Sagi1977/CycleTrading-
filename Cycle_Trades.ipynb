{
  "cells": [
    {
      "cell_type": "markdown",
      "metadata": {
        "id": "view-in-github",
        "colab_type": "text"
      },
      "source": [
        "<a href=\"https://colab.research.google.com/github/Sagi1977/CycleTrading-/blob/main/Cycle_Trades.ipynb\" target=\"_parent\"><img src=\"https://colab.research.google.com/assets/colab-badge.svg\" alt=\"Open In Colab\"/></a>"
      ]
    },
    {
      "cell_type": "markdown",
      "source": [
        "# *** Base APP !!!***"
      ],
      "metadata": {
        "id": "gUZ-Ftgjzbus"
      }
    },
    {
      "cell_type": "code",
      "metadata": {
        "colab": {
          "base_uri": "https://localhost:8080/"
        },
        "id": "fe783563",
        "outputId": "a36c1e2d-06d3-4868-f178-c2da5e6cdb26"
      },
      "source": [
        "# Install necessary libraries\n",
        "!pip install pandas_ta\n",
        "import yfinance as yf\n",
        "import pandas as pd\n",
        "import pandas_ta as ta\n",
        "\n",
        "# --- 1. Define Assets ---\n",
        "ASSET_GROUPS = {\n",
        "    \"ETF\": ['SPY', 'QQQ', 'MAGS', 'IBIT', 'ETHA'],\n",
        "    \"STOCK\": ['AAPL', 'MSFT', 'GOOGL', 'META', 'AMZN', 'NVDA', 'TSLA']\n",
        "}\n",
        "\n",
        "# --- 2. Define Trading Days (Adjusted for Short/Medium Term) ---\n",
        "N_DAYS_SELECTED = 150 # Focusing on short to medium term trends\n",
        "\n",
        "# --- 3. Function to Fetch Base Data ---\n",
        "def get_base_data(ticker, days):\n",
        "    \"\"\"\n",
        "    Fetches historical data (Open, Low, High, Close, Volume) for a given ticker.\n",
        "    \"\"\"\n",
        "    try:\n",
        "        # Fetch enough data to ensure the selected number of days are available\n",
        "        # Fetching 1 year should be sufficient for 150 days\n",
        "        df = yf.download(ticker, period=\"1y\", progress=False)\n",
        "        if df.empty:\n",
        "            return pd.DataFrame()\n",
        "    except Exception:\n",
        "        return pd.DataFrame()\n",
        "\n",
        "    # Keep only the required columns\n",
        "    df.columns = ['Open', 'High', 'Low', 'Close', 'Volume']\n",
        "    df_final = df[['Open', 'Low', 'High', 'Close', 'Volume']].tail(days)\n",
        "\n",
        "    return df_final\n",
        "\n",
        "# --- 4. Fetch Data and Calculate Indicators ---\n",
        "fetched_data = {}\n",
        "analyzed_data = {}\n",
        "\n",
        "print(\"=========================================================\")\n",
        "print(f\"        Fetching Data and Calculating Indicators ({N_DAYS_SELECTED} days)\")\n",
        "print(\"=========================================================\")\n",
        "\n",
        "for group_name, tickers in ASSET_GROUPS.items():\n",
        "    print(f\"\\n################## Group: {group_name} ##################\")\n",
        "    fetched_data[group_name] = {}\n",
        "    analyzed_data[group_name] = {}\n",
        "\n",
        "    for ticker in tickers:\n",
        "        print(f\"\\n--- Processing data for {ticker} ---\")\n",
        "\n",
        "        # Fetch data\n",
        "        df_base = get_base_data(ticker, N_DAYS_SELECTED)\n",
        "\n",
        "        if not df_base.empty:\n",
        "            fetched_data[group_name][ticker] = df_base.copy() # Store fetched data\n",
        "\n",
        "            # Calculate technical indicators using pandas_ta (Relevant for short/medium term)\n",
        "            print(f\"--- Calculating indicators for {ticker} ---\")\n",
        "            df_analysis = df_base.copy() # Work on a copy\n",
        "            df_analysis.ta.rsi(length=14, append=True)\n",
        "            df_analysis.ta.atr(length=14, append=True)\n",
        "            df_analysis.ta.sma(length=50, append=True) # Medium-term MA\n",
        "            df_analysis.ta.sma(length=100, append=True) # Longer end of medium-term MA\n",
        "            df_analysis.ta.macd(fast=12, slow=26, signal=9, append=True)\n",
        "\n",
        "            # Add more indicators (examples)\n",
        "            df_analysis.ta.bbands(length=20, append=True) # Bollinger Bands\n",
        "            df_analysis.ta.ema(length=20, append=True) # Exponential Moving Average (Short-term)\n",
        "            df_analysis.ta.vwap(append=True) # Volume Weighted Average Price\n",
        "\n",
        "            # Add Stochastic Oscillator with specified parameters (Short-term)\n",
        "            stoch_k, stoch_d, stoch_smooth_k = 14, 3, 3\n",
        "            df_analysis.ta.stoch(k=stoch_k, d=stoch_d, smooth_k=stoch_smooth_k, append=True)\n",
        "\n",
        "            # --- Add Logic to Combine Stochastic with MAs (Adjusted for Medium Term) ---\n",
        "            # Example: Check if Stochastic %K is above SMA 50 (Potential bullish signal relative to medium trend)\n",
        "            stoch_k_col = f'STOCHk_{stoch_k}_{stoch_d}_{stoch_smooth_k}'\n",
        "            sma_50_col = 'SMA_50'\n",
        "            if stoch_k_col in df_analysis.columns and sma_50_col in df_analysis.columns:\n",
        "                df_analysis['STOCHk_vs_SMA50_Above'] = (df_analysis[stoch_k_col] > df_analysis[sma_50_col]).astype(int)\n",
        "\n",
        "            # Removed comparison to SMA 200 as we are focusing on shorter/medium terms\n",
        "\n",
        "            # --- Add Fibonacci Retracement and Extension Levels ---\n",
        "            # Calculate based on the High and Low of the current data range (150 days)\n",
        "            fib_max_price = df_analysis['High'].max()\n",
        "            fib_min_price = df_analysis['Low'].min()\n",
        "            fib_range = fib_max_price - fib_min_price\n",
        "\n",
        "            # Fibonacci Retracement Levels (from top to bottom for uptrend, or bottom to top for downtrend)\n",
        "            # Common Retracement levels: 0, 23.6%, 38.2%, 50%, 61.8%, 78.6%, 100%\n",
        "            df_analysis['Fib_0_Retracement'] = fib_max_price\n",
        "            df_analysis['Fib_23.6_Retracement'] = fib_max_price - (fib_range * 0.236)\n",
        "            df_analysis['Fib_38.2_Retracement'] = fib_max_price - (fib_range * 0.382)\n",
        "            df_analysis['Fib_50.0_Retracement'] = fib_max_price - (fib_range * 0.50)\n",
        "            df_analysis['Fib_61.8_Retracement'] = fib_max_price - (fib_range * 0.618)\n",
        "            df_analysis['Fib_78.6_Retracement'] = fib_max_price - (fib_range * 0.786)\n",
        "            df_analysis['Fib_100_Retracement'] = fib_min_price\n",
        "\n",
        "            # Fibonacci Extension Levels (common levels projected from the range)\n",
        "            # Common Extension levels: 123.6%, 138.2%, 161.8%, 200%, 261.8%\n",
        "            # These are often projected from a swing low/high after a retracement.\n",
        "            # For simplicity here, we project from the original range start/end.\n",
        "            df_analysis['Fib_123.6_Extension'] = fib_max_price + (fib_range * 0.236)\n",
        "            df_analysis['Fib_138.2_Extension'] = fib_max_price + (fib_range * 0.382)\n",
        "            df_analysis['Fib_161.8_Extension'] = fib_max_price + (fib_range * 0.618)\n",
        "            df_analysis['Fib_200.0_Extension'] = fib_max_price + (fib_range * 1.00)\n",
        "            df_analysis['Fib_261.8_Extension'] = fib_max_price + (fib_range * 1.618)\n",
        "\n",
        "\n",
        "            analyzed_data[group_name][ticker] = df_analysis # Store analyzed data\n",
        "            print(f\"Indicators calculated for {ticker}. DataFrame shape: {df_analysis.shape}\")\n",
        "        else:\n",
        "            print(f\"!!! Skipping {ticker} as no data was available.\")\n",
        "\n",
        "print(\"\\n=========================================================\")\n",
        "print(\"        Data Fetching and Indicator Calculation Complete \")\n",
        "print(\"=========================================================\")\n",
        "\n",
        "# --- 5. Save Analyzed Data to Excel ---\n",
        "output_filename = \"analyzed_financial_data.xlsx\"\n",
        "\n",
        "print(f\"\\n=========================================================\")\n",
        "print(f\"        Saving Analyzed Data to {output_filename}         \")\n",
        "print(\"=========================================================\")\n",
        "\n",
        "with pd.ExcelWriter(output_filename) as writer:\n",
        "    for group_name, group_data in analyzed_data.items():\n",
        "        if group_data: # Check if there is data for the group\n",
        "            # Combine all tickers within the group into a single DataFrame for saving\n",
        "            # Add a 'Ticker' column to identify the data for each ticker\n",
        "            combined_df = pd.concat(\n",
        "                [df.assign(Ticker=ticker) for ticker, df in group_data.items()]\n",
        "            )\n",
        "\n",
        "            # Save the combined DataFrame for the group to a sheet named after the group\n",
        "            combined_df.to_excel(writer, sheet_name=group_name)\n",
        "\n",
        "            print(f\"Analyzed data for {group_name} saved to sheet '{group_name}'\")\n",
        "        else:\n",
        "            print(f\"No analyzed data to save for {group_name} group.\")\n",
        "\n",
        "print(\"\\n=========================================================\")\n",
        "print(\"        Analyzed Data Export Complete                    \")\n",
        "print(\"=========================================================\")"
      ],
      "execution_count": 59,
      "outputs": [
        {
          "output_type": "stream",
          "name": "stdout",
          "text": [
            "Requirement already satisfied: pandas_ta in /usr/local/lib/python3.12/dist-packages (0.4.71b0)\n",
            "Requirement already satisfied: numba==0.61.2 in /usr/local/lib/python3.12/dist-packages (from pandas_ta) (0.61.2)\n",
            "Requirement already satisfied: numpy>=2.2.6 in /usr/local/lib/python3.12/dist-packages (from pandas_ta) (2.2.6)\n",
            "Requirement already satisfied: pandas>=2.3.2 in /usr/local/lib/python3.12/dist-packages (from pandas_ta) (2.3.2)\n",
            "Requirement already satisfied: tqdm>=4.67.1 in /usr/local/lib/python3.12/dist-packages (from pandas_ta) (4.67.1)\n",
            "Requirement already satisfied: llvmlite<0.45,>=0.44.0dev0 in /usr/local/lib/python3.12/dist-packages (from numba==0.61.2->pandas_ta) (0.44.0)\n",
            "Requirement already satisfied: python-dateutil>=2.8.2 in /usr/local/lib/python3.12/dist-packages (from pandas>=2.3.2->pandas_ta) (2.9.0.post0)\n",
            "Requirement already satisfied: pytz>=2020.1 in /usr/local/lib/python3.12/dist-packages (from pandas>=2.3.2->pandas_ta) (2025.2)\n",
            "Requirement already satisfied: tzdata>=2022.7 in /usr/local/lib/python3.12/dist-packages (from pandas>=2.3.2->pandas_ta) (2025.2)\n",
            "Requirement already satisfied: six>=1.5 in /usr/local/lib/python3.12/dist-packages (from python-dateutil>=2.8.2->pandas>=2.3.2->pandas_ta) (1.17.0)\n",
            "=========================================================\n",
            "        Fetching Data and Calculating Indicators (150 days)\n",
            "=========================================================\n",
            "\n",
            "################## Group: ETF ##################\n",
            "\n",
            "--- Processing data for SPY ---\n",
            "--- Calculating indicators for SPY ---\n"
          ]
        },
        {
          "output_type": "stream",
          "name": "stderr",
          "text": [
            "/tmp/ipython-input-1726138086.py:24: FutureWarning: YF.download() has changed argument auto_adjust default to True\n",
            "  df = yf.download(ticker, period=\"1y\", progress=False)\n"
          ]
        },
        {
          "output_type": "stream",
          "name": "stdout",
          "text": [
            "Indicators calculated for SPY. DataFrame shape: (150, 35)\n",
            "\n",
            "--- Processing data for QQQ ---\n",
            "--- Calculating indicators for QQQ ---\n"
          ]
        },
        {
          "output_type": "stream",
          "name": "stderr",
          "text": [
            "/tmp/ipython-input-1726138086.py:24: FutureWarning: YF.download() has changed argument auto_adjust default to True\n",
            "  df = yf.download(ticker, period=\"1y\", progress=False)\n"
          ]
        },
        {
          "output_type": "stream",
          "name": "stdout",
          "text": [
            "Indicators calculated for QQQ. DataFrame shape: (150, 35)\n",
            "\n",
            "--- Processing data for MAGS ---\n",
            "--- Calculating indicators for MAGS ---\n",
            "Indicators calculated for MAGS. DataFrame shape: (150, 35)\n",
            "\n",
            "--- Processing data for IBIT ---\n"
          ]
        },
        {
          "output_type": "stream",
          "name": "stderr",
          "text": [
            "/tmp/ipython-input-1726138086.py:24: FutureWarning: YF.download() has changed argument auto_adjust default to True\n",
            "  df = yf.download(ticker, period=\"1y\", progress=False)\n",
            "/tmp/ipython-input-1726138086.py:24: FutureWarning: YF.download() has changed argument auto_adjust default to True\n",
            "  df = yf.download(ticker, period=\"1y\", progress=False)\n"
          ]
        },
        {
          "output_type": "stream",
          "name": "stdout",
          "text": [
            "--- Calculating indicators for IBIT ---\n",
            "Indicators calculated for IBIT. DataFrame shape: (150, 35)\n",
            "\n",
            "--- Processing data for ETHA ---\n",
            "--- Calculating indicators for ETHA ---\n",
            "Indicators calculated for ETHA. DataFrame shape: (150, 35)\n",
            "\n",
            "################## Group: STOCK ##################\n",
            "\n",
            "--- Processing data for AAPL ---\n"
          ]
        },
        {
          "output_type": "stream",
          "name": "stderr",
          "text": [
            "/tmp/ipython-input-1726138086.py:24: FutureWarning: YF.download() has changed argument auto_adjust default to True\n",
            "  df = yf.download(ticker, period=\"1y\", progress=False)\n",
            "/tmp/ipython-input-1726138086.py:24: FutureWarning: YF.download() has changed argument auto_adjust default to True\n",
            "  df = yf.download(ticker, period=\"1y\", progress=False)\n"
          ]
        },
        {
          "output_type": "stream",
          "name": "stdout",
          "text": [
            "--- Calculating indicators for AAPL ---\n",
            "Indicators calculated for AAPL. DataFrame shape: (150, 35)\n",
            "\n",
            "--- Processing data for MSFT ---\n",
            "--- Calculating indicators for MSFT ---\n",
            "Indicators calculated for MSFT. DataFrame shape: (150, 35)\n",
            "\n",
            "--- Processing data for GOOGL ---\n"
          ]
        },
        {
          "output_type": "stream",
          "name": "stderr",
          "text": [
            "/tmp/ipython-input-1726138086.py:24: FutureWarning: YF.download() has changed argument auto_adjust default to True\n",
            "  df = yf.download(ticker, period=\"1y\", progress=False)\n",
            "/tmp/ipython-input-1726138086.py:24: FutureWarning: YF.download() has changed argument auto_adjust default to True\n",
            "  df = yf.download(ticker, period=\"1y\", progress=False)\n"
          ]
        },
        {
          "output_type": "stream",
          "name": "stdout",
          "text": [
            "--- Calculating indicators for GOOGL ---\n",
            "Indicators calculated for GOOGL. DataFrame shape: (150, 35)\n",
            "\n",
            "--- Processing data for META ---\n",
            "--- Calculating indicators for META ---\n",
            "Indicators calculated for META. DataFrame shape: (150, 35)\n",
            "\n",
            "--- Processing data for AMZN ---\n"
          ]
        },
        {
          "output_type": "stream",
          "name": "stderr",
          "text": [
            "/tmp/ipython-input-1726138086.py:24: FutureWarning: YF.download() has changed argument auto_adjust default to True\n",
            "  df = yf.download(ticker, period=\"1y\", progress=False)\n",
            "/tmp/ipython-input-1726138086.py:24: FutureWarning: YF.download() has changed argument auto_adjust default to True\n",
            "  df = yf.download(ticker, period=\"1y\", progress=False)\n"
          ]
        },
        {
          "output_type": "stream",
          "name": "stdout",
          "text": [
            "--- Calculating indicators for AMZN ---\n",
            "Indicators calculated for AMZN. DataFrame shape: (150, 35)\n",
            "\n",
            "--- Processing data for NVDA ---\n",
            "--- Calculating indicators for NVDA ---\n",
            "Indicators calculated for NVDA. DataFrame shape: (150, 35)\n",
            "\n",
            "--- Processing data for TSLA ---\n"
          ]
        },
        {
          "output_type": "stream",
          "name": "stderr",
          "text": [
            "/tmp/ipython-input-1726138086.py:24: FutureWarning: YF.download() has changed argument auto_adjust default to True\n",
            "  df = yf.download(ticker, period=\"1y\", progress=False)\n",
            "/tmp/ipython-input-1726138086.py:24: FutureWarning: YF.download() has changed argument auto_adjust default to True\n",
            "  df = yf.download(ticker, period=\"1y\", progress=False)\n"
          ]
        },
        {
          "output_type": "stream",
          "name": "stdout",
          "text": [
            "--- Calculating indicators for TSLA ---\n",
            "Indicators calculated for TSLA. DataFrame shape: (150, 35)\n",
            "\n",
            "=========================================================\n",
            "        Data Fetching and Indicator Calculation Complete \n",
            "=========================================================\n",
            "\n",
            "=========================================================\n",
            "        Saving Analyzed Data to analyzed_financial_data.xlsx         \n",
            "=========================================================\n",
            "Analyzed data for ETF saved to sheet 'ETF'\n",
            "Analyzed data for STOCK saved to sheet 'STOCK'\n",
            "\n",
            "=========================================================\n",
            "        Analyzed Data Export Complete                    \n",
            "=========================================================\n"
          ]
        }
      ]
    },
    {
      "cell_type": "code",
      "metadata": {
        "colab": {
          "base_uri": "https://localhost:8080/"
        },
        "id": "67c18eca",
        "outputId": "3e6a3d4f-df25-488b-f753-5dda3a2df33d"
      },
      "source": [
        "import pandas as pd\n",
        "from datetime import datetime\n",
        "\n",
        "# Assuming analyzed_data dictionary is available from the previous cell execution\n",
        "if 'analyzed_data' in locals() or 'analyzed_data' in globals():\n",
        "    # --- Add Timestamp to filename (Date only) ---\n",
        "    now = datetime.now()\n",
        "    timestamp = now.strftime(\"%d_%m_%Y\") # Changed format to DD_MM_YYYY\n",
        "    output_filename = f\"analyzed_financial_data_{timestamp}.xlsx\"\n",
        "    # --- End Add Timestamp ---\n",
        "\n",
        "\n",
        "    with pd.ExcelWriter(output_filename) as writer:\n",
        "        for group_name, group_data in analyzed_data.items():\n",
        "            if group_data: # Check if there is data for the group\n",
        "                # Combine all tickers within the group into a single DataFrame for saving\n",
        "                # Add a 'Ticker' column to identify the data for each ticker\n",
        "                combined_df = pd.concat(\n",
        "                    [df.assign(Ticker=ticker) for ticker, df in group_data.items()]\n",
        "                )\n",
        "\n",
        "                # --- Reorder columns to place 'Ticker' after the index (Date) ---\n",
        "                # Get the list of columns\n",
        "                cols = combined_df.columns.tolist()\n",
        "                # Remove 'Ticker' from its current position\n",
        "                cols.remove('Ticker')\n",
        "                # Insert 'Ticker' at the desired position (index 0 is the Date index, so insert at index 0 for the first column after index)\n",
        "                cols.insert(0, 'Ticker') # Insert at the beginning of the column list\n",
        "\n",
        "                # Reindex the DataFrame with the new column order\n",
        "                combined_df = combined_df[cols]\n",
        "                # --- End Reorder columns ---\n",
        "\n",
        "\n",
        "                # Save the combined DataFrame for the group to a sheet named after the group\n",
        "                # Reset index so 'Date' becomes a regular column for easier reordering\n",
        "                combined_df.reset_index().to_excel(writer, sheet_name=group_name, index=False)\n",
        "\n",
        "                print(f\"Analyzed data for {group_name} saved to sheet '{group_name}' in {output_filename}\")\n",
        "            else:\n",
        "                print(f\"No analyzed data to save for {group_name} group.\")\n",
        "\n",
        "    print(\"\\n=========================================================\")\n",
        "    print(\"        Analyzed Data Export Complete                    \")\n",
        "    print(f\"        Data saved to {output_filename}                 \")\n",
        "    print(\"=========================================================\")\n",
        "\n",
        "else:\n",
        "    print(\"Error: 'analyzed_data' variable not found. Please run the previous cell to analyze the data.\")"
      ],
      "execution_count": 67,
      "outputs": [
        {
          "output_type": "stream",
          "name": "stdout",
          "text": [
            "Analyzed data for ETF saved to sheet 'ETF' in analyzed_financial_data_28_09_2025.xlsx\n",
            "Analyzed data for STOCK saved to sheet 'STOCK' in analyzed_financial_data_28_09_2025.xlsx\n",
            "\n",
            "=========================================================\n",
            "        Analyzed Data Export Complete                    \n",
            "        Data saved to analyzed_financial_data_28_09_2025.xlsx                 \n",
            "=========================================================\n"
          ]
        }
      ]
    },
    {
      "cell_type": "code",
      "metadata": {
        "colab": {
          "base_uri": "https://localhost:8080/"
        },
        "id": "211b090c",
        "outputId": "d98d2f0c-dd07-4fb7-e1ec-47efec80a9d9"
      },
      "source": [
        "!pip install pandas_ta\n",
        "import pandas_ta as ta\n",
        "import pandas as pd\n",
        "\n",
        "# Assuming fetched_data is available from previous execution\n",
        "if 'fetched_data' in locals() or 'fetched_data' in globals():\n",
        "    analyzed_data = {}\n",
        "\n",
        "    print(\"=========================================================\")\n",
        "    print(\"        Calculating Technical Indicators                 \")\n",
        "    print(\"=========================================================\")\n",
        "\n",
        "    for group_name, group_data in fetched_data.items():\n",
        "        print(f\"\\n################## Group: {group_name} ##################\")\n",
        "        analyzed_data[group_name] = {}\n",
        "\n",
        "        for ticker, df in group_data.items():\n",
        "            if not df.empty:\n",
        "                print(f\"\\n--- Calculating indicators for {ticker} ---\")\n",
        "                # Calculate RSI (14)\n",
        "                df.ta.rsi(length=14, append=True)\n",
        "\n",
        "                # Calculate ATR (14)\n",
        "                df.ta.atr(length=14, append=True)\n",
        "\n",
        "                # Calculate Moving Averages\n",
        "                df.ta.sma(length=50, append=True)\n",
        "                df.ta.sma(length=100, append=True)\n",
        "                df.ta.sma(length=150, append=True)\n",
        "                df.ta.sma(length=200, append=True)\n",
        "\n",
        "                # Calculate MACD (12, 26, 9)\n",
        "                df.ta.macd(fast=12, slow=26, signal=9, append=True)\n",
        "\n",
        "                analyzed_data[group_name][ticker] = df\n",
        "                print(f\"Indicators calculated for {ticker}. DataFrame shape: {df.shape}\")\n",
        "            else:\n",
        "                print(f\"!!! Skipping indicators for {ticker} as no data was available.\")\n",
        "\n",
        "    print(\"\\n=========================================================\")\n",
        "    print(\"        Technical Indicator Calculation Complete         \")\n",
        "    print(\"=========================================================\")\n",
        "\n",
        "    # You can now access the DataFrames with indicators in the 'analyzed_data' dictionary\n",
        "    # For example, to see the data for SPY with new columns:\n",
        "    # display(analyzed_data['ETF']['SPY'].tail())\n",
        "\n",
        "else:\n",
        "    print(\"Error: 'fetched_data' variable not found. Please run the previous cell to fetch the data.\")"
      ],
      "execution_count": 61,
      "outputs": [
        {
          "output_type": "stream",
          "name": "stdout",
          "text": [
            "Requirement already satisfied: pandas_ta in /usr/local/lib/python3.12/dist-packages (0.4.71b0)\n",
            "Requirement already satisfied: numba==0.61.2 in /usr/local/lib/python3.12/dist-packages (from pandas_ta) (0.61.2)\n",
            "Requirement already satisfied: numpy>=2.2.6 in /usr/local/lib/python3.12/dist-packages (from pandas_ta) (2.2.6)\n",
            "Requirement already satisfied: pandas>=2.3.2 in /usr/local/lib/python3.12/dist-packages (from pandas_ta) (2.3.2)\n",
            "Requirement already satisfied: tqdm>=4.67.1 in /usr/local/lib/python3.12/dist-packages (from pandas_ta) (4.67.1)\n",
            "Requirement already satisfied: llvmlite<0.45,>=0.44.0dev0 in /usr/local/lib/python3.12/dist-packages (from numba==0.61.2->pandas_ta) (0.44.0)\n",
            "Requirement already satisfied: python-dateutil>=2.8.2 in /usr/local/lib/python3.12/dist-packages (from pandas>=2.3.2->pandas_ta) (2.9.0.post0)\n",
            "Requirement already satisfied: pytz>=2020.1 in /usr/local/lib/python3.12/dist-packages (from pandas>=2.3.2->pandas_ta) (2025.2)\n",
            "Requirement already satisfied: tzdata>=2022.7 in /usr/local/lib/python3.12/dist-packages (from pandas>=2.3.2->pandas_ta) (2025.2)\n",
            "Requirement already satisfied: six>=1.5 in /usr/local/lib/python3.12/dist-packages (from python-dateutil>=2.8.2->pandas>=2.3.2->pandas_ta) (1.17.0)\n",
            "=========================================================\n",
            "        Calculating Technical Indicators                 \n",
            "=========================================================\n",
            "\n",
            "################## Group: ETF ##################\n",
            "\n",
            "--- Calculating indicators for SPY ---\n",
            "Indicators calculated for SPY. DataFrame shape: (150, 13)\n",
            "\n",
            "--- Calculating indicators for QQQ ---\n",
            "Indicators calculated for QQQ. DataFrame shape: (150, 13)\n",
            "\n",
            "--- Calculating indicators for MAGS ---\n",
            "Indicators calculated for MAGS. DataFrame shape: (150, 13)\n",
            "\n",
            "--- Calculating indicators for IBIT ---\n",
            "Indicators calculated for IBIT. DataFrame shape: (150, 13)\n",
            "\n",
            "--- Calculating indicators for ETHA ---\n",
            "Indicators calculated for ETHA. DataFrame shape: (150, 13)\n",
            "\n",
            "################## Group: STOCK ##################\n",
            "\n",
            "--- Calculating indicators for AAPL ---\n",
            "Indicators calculated for AAPL. DataFrame shape: (150, 13)\n",
            "\n",
            "--- Calculating indicators for MSFT ---\n",
            "Indicators calculated for MSFT. DataFrame shape: (150, 13)\n",
            "\n",
            "--- Calculating indicators for GOOGL ---\n",
            "Indicators calculated for GOOGL. DataFrame shape: (150, 13)\n",
            "\n",
            "--- Calculating indicators for META ---\n",
            "Indicators calculated for META. DataFrame shape: (150, 13)\n",
            "\n",
            "--- Calculating indicators for AMZN ---\n",
            "Indicators calculated for AMZN. DataFrame shape: (150, 13)\n",
            "\n",
            "--- Calculating indicators for NVDA ---\n",
            "Indicators calculated for NVDA. DataFrame shape: (150, 13)\n",
            "\n",
            "--- Calculating indicators for TSLA ---\n",
            "Indicators calculated for TSLA. DataFrame shape: (150, 13)\n",
            "\n",
            "=========================================================\n",
            "        Technical Indicator Calculation Complete         \n",
            "=========================================================\n"
          ]
        }
      ]
    },
    {
      "cell_type": "code",
      "source": [
        "import yfinance as yf\n",
        "import pandas as pd\n",
        "\n",
        "# --- 1. שלב ראשון: הגדרת הנכסים ---\n",
        "\n",
        "ASSET_GROUPS = {\n",
        "    # נכסי ETF\n",
        "    \"ETF\": ['SPY', 'QQQ', 'MAGS', 'IBIT', 'ETHA'],\n",
        "    # מניות\n",
        "    \"STOCK\": ['AAPL', 'MSFT', 'GOOGL', 'META', 'AMZN', 'NVDA', 'TSLA']\n",
        "}\n",
        "\n",
        "# --- 2. שלב שני: בחירת ימי המסחר (אינטראקטיבי מתוך הרשימה) ---\n",
        "\n",
        "def select_trading_days():\n",
        "    \"\"\"\n",
        "    מאפשר למשתמש לבחור את מספר ימי המסחר הרצוי מתוך הרשימה המוגדרת בלבד.\n",
        "    In Colab, this will default to the maximum available days.\n",
        "    \"\"\"\n",
        "    # ימי המסחר המוגדרים כפי שצוין במסמך\n",
        "    AVAILABLE_DAYS = [50, 100, 150, 200, 300]\n",
        "    DEFAULT_DAYS = AVAILABLE_DAYS[-1] # ברירת מחדל: 300 ימים\n",
        "\n",
        "    print(\"\\n=========================================================\")\n",
        "    print(\"  שלב שני: בחירת ימי מסחר אחרונים (היסטוריה)\")\n",
        "    print(f\"  אפשרויות זמינות: {', '.join(map(str, AVAILABLE_DAYS))}\")\n",
        "    print(\"---------------------------------------------------------\")\n",
        "    print(f\"  בסביבת Colab, נבחר אוטומטית ברירת מחדל: {DEFAULT_DAYS} ימים.\")\n",
        "\n",
        "    selected_days = DEFAULT_DAYS\n",
        "\n",
        "    # Removed interactive input for Colab compatibility\n",
        "    # try:\n",
        "    #     user_input = input(\"אנא רשום את המספר הרצוי: \").strip()\n",
        "    # except EOFError:\n",
        "    #     user_input = \"\"\n",
        "    #     print(f\"(נבחר {DEFAULT_DAYS} ימים כברירת מחדל עקב סביבת הרצה.)\")\n",
        "\n",
        "    # if user_input != \"\":\n",
        "    #     try:\n",
        "    #         input_days = int(user_input)\n",
        "    #         if input_days in AVAILABLE_DAYS:\n",
        "    #             selected_days = input_days\n",
        "    #         else:\n",
        "    #             print(f\"❌ המספר {input_days} אינו ברשימת האפשרויות. נבחר {DEFAULT_DAYS} ימים.\")\n",
        "    #     except ValueError:\n",
        "    #         print(f\"❌ קלט לא חוקי. נבחר {DEFAULT_DAYS} ימים.\")\n",
        "\n",
        "    print(f\"✅ נבחרו {selected_days} ימי מסחר.\")\n",
        "    return selected_days\n",
        "\n",
        "# --- 3. שלב שלישי: משיכת הנתונים הנדרשים (Open, Low, High, Close, Volume) ---\n",
        "\n",
        "def get_base_data(ticker, days):\n",
        "    \"\"\"\n",
        "    מושך נתונים היסטוריים (Open, Low, High, Close, Volume) עבור טיקר ומספר ימים נבחר.\n",
        "    \"\"\"\n",
        "    try:\n",
        "        # משיכה של שנתיים כדי להבטיח שיש 300 ימי מסחר\n",
        "        df = yf.download(ticker, period=\"2y\", progress=False)\n",
        "        if df.empty:\n",
        "            return pd.DataFrame()\n",
        "    except Exception:\n",
        "        return pd.DataFrame()\n",
        "\n",
        "    # שמירת העמודות הנדרשות בלבד\n",
        "    df.columns = ['Open', 'High', 'Low', 'Close', 'Volume']\n",
        "    df_final = df[['Open', 'Low', 'High', 'Close', 'Volume']].tail(days)\n",
        "\n",
        "    return df_final\n",
        "\n",
        "\n",
        "# --- 4. לולאת ביצוע מרכזית ---\n",
        "\n",
        "def run_stages_1_to_3():\n",
        "\n",
        "    # שלב 2: בחירת ימי המסחר\n",
        "    N_DAYS_SELECTED = select_trading_days()\n",
        "\n",
        "    print(\"=========================================================\")\n",
        "    print(f\"  יישום שלבים 1 ו-3: משיכת נתוני בסיס ({N_DAYS_SELECTED} ימים)\")\n",
        "    print(\"=========================================================\")\n",
        "\n",
        "    final_results = {} # Dictionary to store results\n",
        "\n",
        "    for group_name, tickers in ASSET_GROUPS.items():\n",
        "        print(f\"\\n################## טאב: {group_name} ##################\")\n",
        "\n",
        "        group_data = {} # Dictionary to store data for the current group\n",
        "        for ticker in tickers:\n",
        "            print(f\"\\n--- משיכת נתונים עבור {ticker} ---\")\n",
        "\n",
        "            # שלב 3: ביצוע משיכת הנתונים\n",
        "            df_base = get_base_data(ticker, N_DAYS_SELECTED)\n",
        "\n",
        "            if not df_base.empty:\n",
        "                print(f\"נתוני בסיס אחרונים (5 שורות) עבור {ticker}:\")\n",
        "                print(f\"  (אורך הנתונים בפועל: {len(df_base)} ימים)\")\n",
        "                print(df_base.tail(5).to_markdown(floatfmt=\".2f\"))\n",
        "                group_data[ticker] = df_base # Store the DataFrame in the group dictionary\n",
        "            else:\n",
        "                print(f\"!!! דילוג: לא נמצאו נתונים עבור {ticker}.\")\n",
        "\n",
        "        final_results[group_name] = group_data # Store the group dictionary in the final results\n",
        "\n",
        "    print(\"\\n=========================================================\")\n",
        "    print(\"                 סיום יישום שלבים 1-3                     \")\n",
        "    print(\"=========================================================\")\n",
        "    return final_results # Return the final results dictionary\n",
        "\n",
        "# הרצת התוכנית\n",
        "fetched_data = run_stages_1_to_3()"
      ],
      "metadata": {
        "colab": {
          "base_uri": "https://localhost:8080/"
        },
        "id": "Rgb-aIenxz1I",
        "outputId": "18520d4d-4f7e-4cf5-aaba-5baba5c2ac66"
      },
      "execution_count": 62,
      "outputs": [
        {
          "output_type": "stream",
          "name": "stdout",
          "text": [
            "\n",
            "=========================================================\n",
            "  שלב שני: בחירת ימי מסחר אחרונים (היסטוריה)\n",
            "  אפשרויות זמינות: 50, 100, 150, 200, 300\n",
            "---------------------------------------------------------\n",
            "  בסביבת Colab, נבחר אוטומטית ברירת מחדל: 300 ימים.\n",
            "✅ נבחרו 300 ימי מסחר.\n",
            "=========================================================\n",
            "  יישום שלבים 1 ו-3: משיכת נתוני בסיס (300 ימים)\n",
            "=========================================================\n",
            "\n",
            "################## טאב: ETF ##################\n",
            "\n",
            "--- משיכת נתונים עבור SPY ---\n"
          ]
        },
        {
          "output_type": "stream",
          "name": "stderr",
          "text": [
            "/tmp/ipython-input-3888966216.py:60: FutureWarning: YF.download() has changed argument auto_adjust default to True\n",
            "  df = yf.download(ticker, period=\"2y\", progress=False)\n"
          ]
        },
        {
          "output_type": "stream",
          "name": "stdout",
          "text": [
            "נתוני בסיס אחרונים (5 שורות) עבור SPY:\n",
            "  (אורך הנתונים בפועל: 300 ימים)\n",
            "| Date                |   Open |    Low |   High |   Close |      Volume |\n",
            "|:--------------------|-------:|-------:|-------:|--------:|------------:|\n",
            "| 2025-09-22 00:00:00 | 666.84 | 662.17 | 667.29 |  662.20 | 69452200.00 |\n",
            "| 2025-09-23 00:00:00 | 663.21 | 661.98 | 667.34 |  666.72 | 81708900.00 |\n",
            "| 2025-09-24 00:00:00 | 661.10 | 659.67 | 664.61 |  664.51 | 68082200.00 |\n",
            "| 2025-09-25 00:00:00 | 658.05 | 654.41 | 659.41 |  657.94 | 89622100.00 |\n",
            "| 2025-09-26 00:00:00 | 661.82 | 657.88 | 662.37 |  659.51 | 69142300.00 |\n",
            "\n",
            "--- משיכת נתונים עבור QQQ ---\n",
            "נתוני בסיס אחרונים (5 שורות) עבור QQQ:\n",
            "  (אורך הנתונים בפועל: 300 ימים)\n",
            "| Date                |   Open |    Low |   High |   Close |      Volume |\n",
            "|:--------------------|-------:|-------:|-------:|--------:|------------:|\n",
            "| 2025-09-22 00:00:00 | 602.20 | 597.72 | 602.87 |  597.74 | 57154800.00 |\n",
            "| 2025-09-23 00:00:00 | 598.20 | 596.98 | 602.57 |  602.37 | 64635500.00 |\n",
            "| 2025-09-24 00:00:00 | 596.10 | 593.36 | 599.90 |  599.58 | 49850300.00 |\n",
            "| 2025-09-25 00:00:00 | 593.53 | 588.50 | 595.12 |  592.20 | 70920200.00 |\n",
            "| 2025-09-26 00:00:00 | 595.97 | 591.06 | 596.30 |  594.35 | 54318500.00 |\n",
            "\n",
            "--- משיכת נתונים עבור MAGS ---\n"
          ]
        },
        {
          "output_type": "stream",
          "name": "stderr",
          "text": [
            "/tmp/ipython-input-3888966216.py:60: FutureWarning: YF.download() has changed argument auto_adjust default to True\n",
            "  df = yf.download(ticker, period=\"2y\", progress=False)\n",
            "/tmp/ipython-input-3888966216.py:60: FutureWarning: YF.download() has changed argument auto_adjust default to True\n",
            "  df = yf.download(ticker, period=\"2y\", progress=False)\n"
          ]
        },
        {
          "output_type": "stream",
          "name": "stdout",
          "text": [
            "נתוני בסיס אחרונים (5 שורות) עבור MAGS:\n",
            "  (אורך הנתונים בפועל: 300 ימים)\n",
            "| Date                |   Open |   Low |   High |   Close |     Volume |\n",
            "|:--------------------|-------:|------:|-------:|--------:|-----------:|\n",
            "| 2025-09-22 00:00:00 |  65.58 | 65.12 |  65.68 |   65.18 | 2472800.00 |\n",
            "| 2025-09-23 00:00:00 |  64.57 | 64.44 |  65.73 |   65.73 | 2660400.00 |\n",
            "| 2025-09-24 00:00:00 |  64.64 | 64.17 |  64.99 |   64.93 | 1859600.00 |\n",
            "| 2025-09-25 00:00:00 |  64.10 | 63.51 |  64.43 |   64.10 | 3056700.00 |\n",
            "| 2025-09-26 00:00:00 |  64.45 | 63.72 |  64.58 |   64.24 | 2903700.00 |\n",
            "\n",
            "--- משיכת נתונים עבור IBIT ---\n",
            "נתוני בסיס אחרונים (5 שורות) עבור IBIT:\n",
            "  (אורך הנתונים בפועל: 300 ימים)\n",
            "| Date                |   Open |   Low |   High |   Close |      Volume |\n",
            "|:--------------------|-------:|------:|-------:|--------:|------------:|\n",
            "| 2025-09-22 00:00:00 |  63.65 | 63.58 |  64.46 |   64.18 | 42504100.00 |\n",
            "| 2025-09-23 00:00:00 |  63.41 | 63.33 |  64.39 |   64.16 | 40145000.00 |\n",
            "| 2025-09-24 00:00:00 |  64.42 | 64.07 |  64.78 |   64.20 | 30977600.00 |\n",
            "| 2025-09-25 00:00:00 |  62.10 | 61.58 |  63.43 |   63.38 | 63817400.00 |\n",
            "| 2025-09-26 00:00:00 |  61.94 | 61.67 |  62.65 |   62.01 | 48708800.00 |\n",
            "\n",
            "--- משיכת נתונים עבור ETHA ---\n"
          ]
        },
        {
          "output_type": "stream",
          "name": "stderr",
          "text": [
            "/tmp/ipython-input-3888966216.py:60: FutureWarning: YF.download() has changed argument auto_adjust default to True\n",
            "  df = yf.download(ticker, period=\"2y\", progress=False)\n",
            "/tmp/ipython-input-3888966216.py:60: FutureWarning: YF.download() has changed argument auto_adjust default to True\n",
            "  df = yf.download(ticker, period=\"2y\", progress=False)\n"
          ]
        },
        {
          "output_type": "stream",
          "name": "stdout",
          "text": [
            "נתוני בסיס אחרונים (5 שורות) עבור ETHA:\n",
            "  (אורך הנתונים בפועל: 297 ימים)\n",
            "| Date                |   Open |   Low |   High |   Close |      Volume |\n",
            "|:--------------------|-------:|------:|-------:|--------:|------------:|\n",
            "| 2025-09-22 00:00:00 |  31.29 | 31.22 |  31.96 |   31.83 | 47047900.00 |\n",
            "| 2025-09-23 00:00:00 |  31.41 | 31.26 |  31.88 |   31.76 | 37951400.00 |\n",
            "| 2025-09-24 00:00:00 |  31.46 | 31.38 |  31.83 |   31.59 | 23440800.00 |\n",
            "| 2025-09-25 00:00:00 |  29.58 | 28.87 |  30.41 |   30.26 | 75464300.00 |\n",
            "| 2025-09-26 00:00:00 |  30.46 | 29.56 |  30.82 |   29.63 | 46439900.00 |\n",
            "\n",
            "################## טאב: STOCK ##################\n",
            "\n",
            "--- משיכת נתונים עבור AAPL ---\n"
          ]
        },
        {
          "output_type": "stream",
          "name": "stderr",
          "text": [
            "/tmp/ipython-input-3888966216.py:60: FutureWarning: YF.download() has changed argument auto_adjust default to True\n",
            "  df = yf.download(ticker, period=\"2y\", progress=False)\n"
          ]
        },
        {
          "output_type": "stream",
          "name": "stdout",
          "text": [
            "נתוני בסיס אחרונים (5 שורות) עבור AAPL:\n",
            "  (אורך הנתונים בפועל: 300 ימים)\n",
            "| Date                |   Open |    Low |   High |   Close |       Volume |\n",
            "|:--------------------|-------:|-------:|-------:|--------:|-------------:|\n",
            "| 2025-09-22 00:00:00 | 256.08 | 248.12 | 256.64 |  248.30 | 105517400.00 |\n",
            "| 2025-09-23 00:00:00 | 254.43 | 253.58 | 257.34 |  255.88 |  60275200.00 |\n",
            "| 2025-09-24 00:00:00 | 252.31 | 251.04 | 255.74 |  255.22 |  42303700.00 |\n",
            "| 2025-09-25 00:00:00 | 256.87 | 251.71 | 257.17 |  253.21 |  55202100.00 |\n",
            "| 2025-09-26 00:00:00 | 255.46 | 253.78 | 257.60 |  254.10 |  46045700.00 |\n",
            "\n",
            "--- משיכת נתונים עבור MSFT ---\n",
            "נתוני בסיס אחרונים (5 שורות) עבור MSFT:\n",
            "  (אורך הנתונים בפועל: 300 ימים)\n",
            "| Date                |   Open |    Low |   High |   Close |      Volume |\n",
            "|:--------------------|-------:|-------:|-------:|--------:|------------:|\n",
            "| 2025-09-22 00:00:00 | 514.45 | 512.54 | 517.74 |  515.59 | 20009300.00 |\n",
            "| 2025-09-23 00:00:00 | 509.23 | 507.31 | 514.59 |  513.80 | 19799600.00 |\n",
            "| 2025-09-24 00:00:00 | 510.15 | 506.92 | 512.48 |  510.38 | 13533700.00 |\n",
            "| 2025-09-25 00:00:00 | 507.03 | 505.04 | 510.01 |  508.30 | 15786500.00 |\n",
            "| 2025-09-26 00:00:00 | 511.46 | 506.62 | 513.94 |  510.06 | 16200700.00 |\n",
            "\n",
            "--- משיכת נתונים עבור GOOGL ---\n"
          ]
        },
        {
          "output_type": "stream",
          "name": "stderr",
          "text": [
            "/tmp/ipython-input-3888966216.py:60: FutureWarning: YF.download() has changed argument auto_adjust default to True\n",
            "  df = yf.download(ticker, period=\"2y\", progress=False)\n",
            "/tmp/ipython-input-3888966216.py:60: FutureWarning: YF.download() has changed argument auto_adjust default to True\n",
            "  df = yf.download(ticker, period=\"2y\", progress=False)\n"
          ]
        },
        {
          "output_type": "stream",
          "name": "stdout",
          "text": [
            "נתוני בסיס אחרונים (5 שורות) עבור GOOGL:\n",
            "  (אורך הנתונים בפועל: 300 ימים)\n",
            "| Date                |   Open |    Low |   High |   Close |      Volume |\n",
            "|:--------------------|-------:|-------:|-------:|--------:|------------:|\n",
            "| 2025-09-22 00:00:00 | 252.53 | 250.30 | 255.78 |  254.43 | 32290500.00 |\n",
            "| 2025-09-23 00:00:00 | 251.66 | 250.48 | 254.36 |  253.04 | 26628000.00 |\n",
            "| 2025-09-24 00:00:00 | 247.14 | 246.44 | 252.35 |  251.66 | 28201000.00 |\n",
            "| 2025-09-25 00:00:00 | 245.79 | 240.74 | 246.49 |  244.40 | 31020400.00 |\n",
            "| 2025-09-26 00:00:00 | 246.54 | 245.97 | 249.42 |  247.07 | 18479400.00 |\n",
            "\n",
            "--- משיכת נתונים עבור META ---\n",
            "נתוני בסיס אחרונים (5 שורות) עבור META:\n",
            "  (אורך הנתונים בפועל: 300 ימים)\n",
            "| Date                |   Open |    Low |   High |   Close |      Volume |\n",
            "|:--------------------|-------:|-------:|-------:|--------:|------------:|\n",
            "| 2025-09-22 00:00:00 | 765.16 | 764.47 | 785.73 |  781.85 | 11706900.00 |\n",
            "| 2025-09-23 00:00:00 | 755.40 | 751.07 | 770.60 |  769.25 | 10872600.00 |\n",
            "| 2025-09-24 00:00:00 | 760.66 | 752.53 | 761.11 |  757.50 |  8828200.00 |\n",
            "| 2025-09-25 00:00:00 | 748.91 | 744.55 | 756.77 |  753.45 | 10591100.00 |\n",
            "| 2025-09-26 00:00:00 | 743.75 | 737.35 | 751.93 |  750.00 |  9684800.00 |\n",
            "\n",
            "--- משיכת נתונים עבור AMZN ---\n"
          ]
        },
        {
          "output_type": "stream",
          "name": "stderr",
          "text": [
            "/tmp/ipython-input-3888966216.py:60: FutureWarning: YF.download() has changed argument auto_adjust default to True\n",
            "  df = yf.download(ticker, period=\"2y\", progress=False)\n",
            "/tmp/ipython-input-3888966216.py:60: FutureWarning: YF.download() has changed argument auto_adjust default to True\n",
            "  df = yf.download(ticker, period=\"2y\", progress=False)\n"
          ]
        },
        {
          "output_type": "stream",
          "name": "stdout",
          "text": [
            "נתוני בסיס אחרונים (5 שורות) עבור AMZN:\n",
            "  (אורך הנתונים בפועל: 300 ימים)\n",
            "| Date                |   Open |    Low |   High |   Close |      Volume |\n",
            "|:--------------------|-------:|-------:|-------:|--------:|------------:|\n",
            "| 2025-09-22 00:00:00 | 227.63 | 227.51 | 230.57 |  230.56 | 45914500.00 |\n",
            "| 2025-09-23 00:00:00 | 220.71 | 220.07 | 227.86 |  227.83 | 70956200.00 |\n",
            "| 2025-09-24 00:00:00 | 220.21 | 219.45 | 224.56 |  224.15 | 49509000.00 |\n",
            "| 2025-09-25 00:00:00 | 218.15 | 216.47 | 220.67 |  220.06 | 52226300.00 |\n",
            "| 2025-09-26 00:00:00 | 219.78 | 218.02 | 221.05 |  219.08 | 41600900.00 |\n",
            "\n",
            "--- משיכת נתונים עבור NVDA ---\n"
          ]
        },
        {
          "output_type": "stream",
          "name": "stderr",
          "text": [
            "/tmp/ipython-input-3888966216.py:60: FutureWarning: YF.download() has changed argument auto_adjust default to True\n",
            "  df = yf.download(ticker, period=\"2y\", progress=False)\n"
          ]
        },
        {
          "output_type": "stream",
          "name": "stdout",
          "text": [
            "נתוני בסיס אחרונים (5 שורות) עבור NVDA:\n",
            "  (אורך הנתונים בפועל: 300 ימים)\n",
            "| Date                |   Open |    Low |   High |   Close |       Volume |\n",
            "|:--------------------|-------:|-------:|-------:|--------:|-------------:|\n",
            "| 2025-09-22 00:00:00 | 183.61 | 174.71 | 184.55 |  175.30 | 269637000.00 |\n",
            "| 2025-09-23 00:00:00 | 178.43 | 176.21 | 182.42 |  181.97 | 192559600.00 |\n",
            "| 2025-09-24 00:00:00 | 176.97 | 175.40 | 179.78 |  179.77 | 143564100.00 |\n",
            "| 2025-09-25 00:00:00 | 177.69 | 173.13 | 180.26 |  174.48 | 191586700.00 |\n",
            "| 2025-09-26 00:00:00 | 178.19 | 174.93 | 179.77 |  178.17 | 148306600.00 |\n",
            "\n",
            "--- משיכת נתונים עבור TSLA ---\n"
          ]
        },
        {
          "output_type": "stream",
          "name": "stderr",
          "text": [
            "/tmp/ipython-input-3888966216.py:60: FutureWarning: YF.download() has changed argument auto_adjust default to True\n",
            "  df = yf.download(ticker, period=\"2y\", progress=False)\n"
          ]
        },
        {
          "output_type": "stream",
          "name": "stdout",
          "text": [
            "נתוני בסיס אחרונים (5 שורות) עבור TSLA:\n",
            "  (אורך הנתונים בפועל: 300 ימים)\n",
            "| Date                |   Open |    Low |   High |   Close |       Volume |\n",
            "|:--------------------|-------:|-------:|-------:|--------:|-------------:|\n",
            "| 2025-09-22 00:00:00 | 434.21 | 429.13 | 444.98 |  431.11 |  97108800.00 |\n",
            "| 2025-09-23 00:00:00 | 425.85 | 423.72 | 440.97 |  439.88 |  83422700.00 |\n",
            "| 2025-09-24 00:00:00 | 442.79 | 429.03 | 444.21 |  429.83 |  93133600.00 |\n",
            "| 2025-09-25 00:00:00 | 423.39 | 419.08 | 435.35 |  435.24 |  96746400.00 |\n",
            "| 2025-09-26 00:00:00 | 440.40 | 421.02 | 440.47 |  428.30 | 101332800.00 |\n",
            "\n",
            "=========================================================\n",
            "                 סיום יישום שלבים 1-3                     \n",
            "=========================================================\n"
          ]
        }
      ]
    },
    {
      "cell_type": "code",
      "source": [
        "from google.colab import drive\n",
        "drive.mount('/content/drive')"
      ],
      "metadata": {
        "colab": {
          "base_uri": "https://localhost:8080/"
        },
        "id": "bsNpIUvLywd7",
        "outputId": "cdf38aee-37b0-41c0-c7c5-29332ff0d6d2"
      },
      "execution_count": 63,
      "outputs": [
        {
          "output_type": "stream",
          "name": "stdout",
          "text": [
            "Drive already mounted at /content/drive; to attempt to forcibly remount, call drive.mount(\"/content/drive\", force_remount=True).\n"
          ]
        }
      ]
    },
    {
      "cell_type": "code",
      "metadata": {
        "colab": {
          "base_uri": "https://localhost:8080/"
        },
        "id": "15e4d9aa",
        "outputId": "765b3eee-5b03-43a7-ca5a-9f3eff1cbb97"
      },
      "source": [
        "import pandas as pd\n",
        "from datetime import datetime\n",
        "\n",
        "# Assuming fetched_data dictionary is available from the previous cell execution\n",
        "if 'fetched_data' in locals() or 'fetched_data' in globals():\n",
        "    # --- Get Date Timestamp ---\n",
        "    now = datetime.now()\n",
        "    timestamp = now.strftime(\"%d_%m_%Y\") # Changed format to DD_MM_YYYY\n",
        "    # --- End Get Date Timestamp ---\n",
        "\n",
        "    for group_name, group_data in fetched_data.items():\n",
        "        if group_data: # Check if there is data for the group\n",
        "            # Combine all tickers within the group into a single DataFrame for saving\n",
        "            # Add a 'Ticker' column to identify the data for each ticker\n",
        "            combined_df = pd.concat(\n",
        "                [df.assign(Ticker=ticker) for ticker, df in group_data.items()]\n",
        "            )\n",
        "\n",
        "            # --- Reorder columns to place 'Ticker' after the index (Date) ---\n",
        "            # Get the list of columns\n",
        "            cols = combined_df.columns.tolist()\n",
        "            # Remove 'Ticker' from its current position\n",
        "            cols.remove('Ticker')\n",
        "            # Insert 'Ticker' at the desired position (index 0 is the Date index, so insert at index 0 for the first column after index)\n",
        "            cols.insert(0, 'Ticker') # Insert at the beginning of the column list\n",
        "\n",
        "            # Reindex the DataFrame with the new column order\n",
        "            combined_df = combined_df[cols]\n",
        "            # --- End Reorder columns ---\n",
        "\n",
        "            # Define the filename based on the group name and timestamp\n",
        "            filename = f\"{group_name}_{timestamp}.csv\" # Added timestamp to filename\n",
        "\n",
        "            # Save the combined DataFrame to a CSV file\n",
        "            # Reset index so 'Date' becomes a regular column for easier reordering\n",
        "            combined_df.reset_index().to_csv(filename, index=False)\n",
        "\n",
        "\n",
        "            print(f\"Full results for {group_name} saved to {filename}\")\n",
        "        else:\n",
        "            print(f\"No data to save for {group_name} group.\")\n",
        "\n",
        "else:\n",
        "    print(\"Error: 'fetched_data' variable not found. Please run the previous cell to generate the results.\")"
      ],
      "execution_count": 66,
      "outputs": [
        {
          "output_type": "stream",
          "name": "stdout",
          "text": [
            "Full results for ETF saved to ETF_28_09_2025.csv\n",
            "Full results for STOCK saved to STOCK_28_09_2025.csv\n"
          ]
        }
      ]
    }
  ],
  "metadata": {
    "colab": {
      "provenance": [],
      "authorship_tag": "ABX9TyMy+fXQBBMU6yAKjQ43s8Id",
      "include_colab_link": true
    },
    "kernelspec": {
      "display_name": "Python 3",
      "name": "python3"
    },
    "language_info": {
      "name": "python"
    }
  },
  "nbformat": 4,
  "nbformat_minor": 0
}